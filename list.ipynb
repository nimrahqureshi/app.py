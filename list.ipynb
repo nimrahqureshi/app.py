{
  "nbformat": 4,
  "nbformat_minor": 0,
  "metadata": {
    "colab": {
      "provenance": [],
      "authorship_tag": "ABX9TyMsWdtXfNHkllEQSFMhE3ao",
      "include_colab_link": true
    },
    "kernelspec": {
      "name": "python3",
      "display_name": "Python 3"
    },
    "language_info": {
      "name": "python"
    }
  },
  "cells": [
    {
      "cell_type": "markdown",
      "metadata": {
        "id": "view-in-github",
        "colab_type": "text"
      },
      "source": [
        "<a href=\"https://colab.research.google.com/github/nimrahqureshi/app.py/blob/main/list.ipynb\" target=\"_parent\"><img src=\"https://colab.research.google.com/assets/colab-badge.svg\" alt=\"Open In Colab\"/></a>"
      ]
    },
    {
      "cell_type": "code",
      "source": [
        "\n",
        "fruits = [\"apple\", \"banana\", \"orange\", \"pineapple\", \"watermelon\"]\n",
        "\n",
        "fruits.append(\"grape\")\n",
        "\n",
        "fruits.insert(2, \"mango\")\n",
        "\n",
        "fruits.remove(\"banana\")\n",
        "\n",
        "print(fruits)\n"
      ],
      "metadata": {
        "colab": {
          "base_uri": "https://localhost:8080/"
        },
        "id": "_B7fIYvhCKkF",
        "outputId": "d06b96aa-d5e9-4819-8dea-54b5de62945a"
      },
      "execution_count": null,
      "outputs": [
        {
          "output_type": "stream",
          "name": "stdout",
          "text": [
            "['apple', 'mango', 'orange', 'pineapple', 'watermelon', 'grape']\n"
          ]
        }
      ]
    }
  ]
}