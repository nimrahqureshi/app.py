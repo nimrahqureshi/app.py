{
  "nbformat": 4,
  "nbformat_minor": 0,
  "metadata": {
    "colab": {
      "provenance": [],
      "authorship_tag": "ABX9TyNg6e744BgcSrJDznFJc3hL",
      "include_colab_link": true
    },
    "kernelspec": {
      "name": "python3",
      "display_name": "Python 3"
    },
    "language_info": {
      "name": "python"
    }
  },
  "cells": [
    {
      "cell_type": "markdown",
      "metadata": {
        "id": "view-in-github",
        "colab_type": "text"
      },
      "source": [
        "<a href=\"https://colab.research.google.com/github/nimrahqureshi/app.py/blob/main/list_tuples.ipynb\" target=\"_parent\"><img src=\"https://colab.research.google.com/assets/colab-badge.svg\" alt=\"Open In Colab\"/></a>"
      ]
    },
    {
      "cell_type": "code",
      "execution_count": null,
      "metadata": {
        "id": "9AFQuH_6TIyr",
        "colab": {
          "base_uri": "https://localhost:8080/"
        },
        "outputId": "195b02f6-f7bd-40f3-8eee-ce47ffb00f1d"
      },
      "outputs": [
        {
          "output_type": "stream",
          "name": "stdout",
          "text": [
            "bread: 3 x Rs. 100.50 = Rs. 301.50\n",
            "oil: 6 x Rs. 150.00 = Rs. 900.00\n",
            "butter: 2 x Rs. 200.00 = Rs. 400.00\n",
            "milk: 4 x Rs. 120.00 = Rs. 480.00\n"
          ]
        }
      ],
      "source": [
        "grocery_list = [\n",
        "    (\"bread\", 3, 100.5),\n",
        "    (\"oil\", 6, 150.0),\n",
        "    (\"butter\", 2, 200.0),\n",
        "    (\"milk\", 4, 120.0)\n",
        "]\n",
        "for item in grocery_list:\n",
        "    name, quantity, price = item\n",
        "    print(f\"{name}: {quantity} x Rs. {price:.2f} = Rs. {quantity * price:.2f}\")\n"
      ]
    },
    {
      "cell_type": "code",
      "source": [],
      "metadata": {
        "id": "FGxC3EV7-wcR"
      },
      "execution_count": null,
      "outputs": []
    }
  ]
}