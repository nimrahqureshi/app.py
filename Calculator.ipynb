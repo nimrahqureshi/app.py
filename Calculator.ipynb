{
  "cells": [
    {
      "cell_type": "markdown",
      "metadata": {
        "id": "view-in-github",
        "colab_type": "text"
      },
      "source": [
        "<a href=\"https://colab.research.google.com/github/nimrahqureshi/app.py/blob/main/Calculator.ipynb\" target=\"_parent\"><img src=\"https://colab.research.google.com/assets/colab-badge.svg\" alt=\"Open In Colab\"/></a>"
      ]
    },
    {
      "cell_type": "code",
      "execution_count": null,
      "metadata": {
        "colab": {
          "base_uri": "https://localhost:8080/"
        },
        "id": "hU8DwiEMkWYF",
        "outputId": "2e611f50-df07-496d-acc1-416bcb961c0d"
      },
      "outputs": [
        {
          "name": "stdout",
          "output_type": "stream",
          "text": [
            "=====Simple Calculator======\n",
            "Operations:\n",
            "1. Add\n",
            "2. Subtract\n",
            "3. Multiply\n",
            "4. Divide\n",
            "Enter your choice (1/2/3/4): 4\n",
            "Put the first value: 4\n",
            "Put the second value: 6\n",
            "Result: 0.6666666666666666\n"
          ]
        }
      ],
      "source": [
        "def calculator():\n",
        "    print(\"=====Simple Calculator======\")\n",
        "    print(\"Operations:\")\n",
        "    print(\"1. Add\")\n",
        "    print(\"2. Subtract\")\n",
        "    print(\"3. Multiply\")\n",
        "    print(\"4. Divide\")\n",
        "\n",
        "    choice = input(\"Enter your choice (1/2/3/4): \")\n",
        "\n",
        "    if choice in ['1', '2', '3', '4']:\n",
        "        num1 = float(input(\"Put the first value: \"))\n",
        "        num2 = float(input(\"Put the second value: \"))\n",
        "\n",
        "        if choice == '1':\n",
        "            result = num1 + num2\n",
        "            print(f\"Result: {result}\")\n",
        "        elif choice == '2':\n",
        "            result = num1 - num2\n",
        "            print(f\"Result: {result}\")\n",
        "        elif choice == '3':\n",
        "            result = num1 * num2\n",
        "            print(f\"Result: {result}\")\n",
        "        elif choice == '4':\n",
        "            if num2 != 0:\n",
        "                result = num1 / num2\n",
        "                print(f\"Result: {result}\")\n",
        "            else:\n",
        "                print(\"Error: Division by zero is not allowed.\")\n",
        "    else:\n",
        "        print(\"Invalid input.\")\n",
        "\n",
        "calculator()\n"
      ]
    },
    {
      "cell_type": "code",
      "execution_count": null,
      "metadata": {
        "colab": {
          "background_save": true,
          "base_uri": "https://localhost:8080/"
        },
        "id": "xUS-0PgQrl7Q",
        "outputId": "b0eca9d2-dcb0-46f3-9cdb-6e65bb27b04e"
      },
      "outputs": [
        {
          "name": "stdout",
          "output_type": "stream",
          "text": [
            "Grading System\n",
            "Grade: E\n",
            "Dufferrrr\n"
          ]
        }
      ],
      "source": [
        "def grading_system():\n",
        "    print(\"Grading System\")\n",
        "    score = float(input(\"Enter your score (0 - 100): \"))\n",
        "    if score < 0 or score > 100:\n",
        "        print(\"Invalid score. Please enter a value between 0 and 100.\")\n",
        "    elif score >= 90:\n",
        "        print(\"Grade: A\")\n",
        "        print(\"Supper Excellent\")\n",
        "    elif score >= 80:\n",
        "        print(\"Grade: B\")\n",
        "        print(\"Excellent\")\n",
        "    elif score >= 70:\n",
        "        print(\"Grade: C\")\n",
        "        print(\"Good\")\n",
        "    elif score >= 60:\n",
        "        print(\"Grade: D\")\n",
        "\n",
        "    else:\n",
        "        print(\"Grade: F\")\n",
        "        print(\"Failll\")\n",
        "grading_system()\n"
      ]
    },
    {
      "cell_type": "code",
      "execution_count": null,
      "metadata": {
        "id": "ffNAc2mVrl-g"
      },
      "outputs": [],
      "source": []
    }
  ],
  "metadata": {
    "colab": {
      "provenance": [],
      "authorship_tag": "ABX9TyMw42x1rFQ8BrkL8fnnuD9z",
      "include_colab_link": true
    },
    "kernelspec": {
      "display_name": "Python 3",
      "name": "python3"
    },
    "language_info": {
      "name": "python"
    }
  },
  "nbformat": 4,
  "nbformat_minor": 0
}