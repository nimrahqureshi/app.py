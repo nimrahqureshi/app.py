{
  "nbformat": 4,
  "nbformat_minor": 0,
  "metadata": {
    "colab": {
      "provenance": [],
      "authorship_tag": "ABX9TyNWWCAic1XTCapSzyQBN0AO",
      "include_colab_link": true
    },
    "kernelspec": {
      "name": "python3",
      "display_name": "Python 3"
    },
    "language_info": {
      "name": "python"
    }
  },
  "cells": [
    {
      "cell_type": "markdown",
      "metadata": {
        "id": "view-in-github",
        "colab_type": "text"
      },
      "source": [
        "<a href=\"https://colab.research.google.com/github/nimrahqureshi/app.py/blob/main/python_string.ipynb\" target=\"_parent\"><img src=\"https://colab.research.google.com/assets/colab-badge.svg\" alt=\"Open In Colab\"/></a>"
      ]
    },
    {
      "cell_type": "code",
      "source": [
        "humpty_dumpty = \"\"\"\n",
        "Humpty Dumpty sat on a wall,\n",
        "Humpty Dumpty had a great fall.\n",
        "All the king's horses and all the king's men\n",
        "Couldn't put Humpty together again.\n",
        "\"\"\"\n",
        "\n",
        "print(humpty_dumpty)\n",
        "\n",
        "single_quote = 'example'\n",
        "double_quote = \"example\"\n",
        "triple_quote = \"\"\"example\"\"\"\n",
        "\n",
        "mixed_quotes = 'She said, \"I\\'m going to the store.\"'\n",
        "\n",
        "hobby = \"\"\"My favorite hobby is programming.\n",
        "I enjoy solving problems and creating\n",
        "new applications with Python.\"\"\"\n",
        "\n",
        "full_name = \"John Doe\"\n",
        "print(full_name.upper())\n",
        "print(full_name.lower())\n",
        "\n",
        "messy_text = \"   Python programming is fun!   \"\n",
        "clean_text = messy_text.strip()\n",
        "print(clean_text)\n",
        "replaced_text = clean_text.replace(\"fun\", \"amazing\")\n",
        "print(replaced_text)\n",
        "t_count = clean_text.lower().count('t')\n",
        "print(t_count)\n",
        "\n",
        "sentence = \"The quick brown fox jumps over the lazy dog\"\n",
        "words = sentence.split()\n",
        "print(words)\n",
        "joined_words = \"-\".join(words)\n",
        "print(joined_words)\n",
        "starts_with_fun = sentence.startswith(\"fun\")\n",
        "print(starts_with_fun)\n",
        "fox_position = sentence.find(\"fox\")\n",
        "print(fox_position)\n",
        "\n",
        "name = \"John\"\n",
        "age = 25\n",
        "language = \"Python\"\n",
        "\n",
        "print(f\"My name is {name} and I am {age} years old.\")\n",
        "print(f\"I enjoy programming in {language}, it's my favorite!\")\n",
        "print(f\"In 5 years, I will be {age + 5} years old.\")"
      ],
      "metadata": {
        "colab": {
          "base_uri": "https://localhost:8080/"
        },
        "id": "oS2bWxXDKEOp",
        "outputId": "36c2d502-759f-4ecd-99cb-68963e671c51"
      },
      "execution_count": null,
      "outputs": [
        {
          "output_type": "stream",
          "name": "stdout",
          "text": [
            "\n",
            "Humpty Dumpty sat on a wall,\n",
            "Humpty Dumpty had a great fall.\n",
            "All the king's horses and all the king's men\n",
            "Couldn't put Humpty together again.\n",
            "\n",
            "JOHN DOE\n",
            "john doe\n",
            "Python programming is fun!\n",
            "Python programming is amazing!\n",
            "1\n",
            "['The', 'quick', 'brown', 'fox', 'jumps', 'over', 'the', 'lazy', 'dog']\n",
            "The-quick-brown-fox-jumps-over-the-lazy-dog\n",
            "False\n",
            "16\n",
            "My name is John and I am 25 years old.\n",
            "I enjoy programming in Python, it's my favorite!\n",
            "In 5 years, I will be 30 years old.\n"
          ]
        }
      ]
    }
  ]
}