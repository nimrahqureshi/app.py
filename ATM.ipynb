{
  "cells": [
    {
      "cell_type": "markdown",
      "metadata": {
        "id": "view-in-github",
        "colab_type": "text"
      },
      "source": [
        "<a href=\"https://colab.research.google.com/github/nimrahqureshi/app.py/blob/main/ATM.ipynb\" target=\"_parent\"><img src=\"https://colab.research.google.com/assets/colab-badge.svg\" alt=\"Open In Colab\"/></a>"
      ]
    },
    {
      "cell_type": "code",
      "source": [
        "class ATM:\n",
        "    def __init__(self):\n",
        "        self.pin = \"0987\"\n",
        "        self.balance = 30000.0\n",
        "        self.is_authenticated = False\n",
        "\n",
        "    def check_pin(self, input_pin):\n",
        "        if input_pin == self.pin:\n",
        "            self.is_authenticated = True\n",
        "            print(\"  PIN verified successfully.\\n\")\n",
        "        else:\n",
        "            print(\"  Incorrect PIN. Access denied.\\n\")\n",
        "\n",
        "    def check_balance(self):\n",
        "        if self.is_authenticated:\n",
        "            print(f\"  Current balance: Rs. {self.balance:.2f}\\n\")\n",
        "        else:\n",
        "            print(\"  Please enter the correct PIN first.\\n\")\n",
        "\n",
        "    def deposit(self, amount):\n",
        "        if self.is_authenticated:\n",
        "            if amount > 0:\n",
        "                self.balance += amount\n",
        "                print(f\"  Rs. {amount:.2f} deposited successfully.\\n\")\n",
        "                print(f\"  New balance: Rs. {self.balance:.2f}\\n\")\n",
        "            else:\n",
        "                print(\"  Deposit amount must be positive.\\n\")\n",
        "        else:\n",
        "            print(\"  Please enter the correct PIN first.\\n\")\n",
        "\n",
        "    def withdraw(self, amount):\n",
        "        if self.is_authenticated:\n",
        "            if amount <= 0:\n",
        "                print(\"  Withdrawal amount must be positive.\\n\")\n",
        "            elif amount > self.balance:\n",
        "                print(\"  Insufficient balance.\\n\")\n",
        "            else:\n",
        "                self.balance -= amount\n",
        "                print(f\"  Rs. {amount:.2f} withdrawn successfully.\\n\")\n",
        "                print(f\"  New balance: Rs. {self.balance:.2f}\\n\")\n",
        "        else:\n",
        "            print(\"  Please enter the correct PIN first.\\n\")\n",
        "\n",
        "    def exit(self):\n",
        "        print(\"  Thank you for using the ATM. Goodbye!\")\n",
        "        return False\n",
        "\n",
        "    def menu(self):\n",
        "        print(\"===== Welcome to the ATM =====\")\n",
        "        attempts = 0\n",
        "        while attempts < 3:\n",
        "            input_pin = input(\"  Please enter your 4-digit PIN: \")\n",
        "            if input_pin == self.pin:\n",
        "                self.is_authenticated = True\n",
        "                print(\"  PIN verified successfully.\\n\")\n",
        "                break\n",
        "            else:\n",
        "                attempts += 1\n",
        "                print(f\"  Incorrect PIN. Attempts left: {3 - attempts}\\n\")\n",
        "        else:\n",
        "            print(\"  Too many incorrect attempts. Exiting.\")\n",
        "            return\n",
        "\n",
        "        while True:\n",
        "            print(\"===== ATM Menu =====\")\n",
        "            print(\"1. Check Balance\")\n",
        "            print(\"2. Deposit Money\")\n",
        "            print(\"3. Withdraw Money\")\n",
        "            print(\"4. Exit\")\n",
        "\n",
        "            choice = input(\"  Enter your choice (1/2/3/4): \")\n",
        "\n",
        "            if choice == \"1\":\n",
        "                self.check_balance()\n",
        "            elif choice == \"2\":\n",
        "                try:\n",
        "                    amount = float(input(\"  Enter amount to deposit: \"))\n",
        "                    self.deposit(amount)\n",
        "                except ValueError:\n",
        "                    print(\"  Invalid input. Please enter a valid amount.\\n\")\n",
        "            elif choice == \"3\":\n",
        "                try:\n",
        "                    amount = float(input(\"  Enter amount to withdraw: \"))\n",
        "                    self.withdraw(amount)\n",
        "                except ValueError:\n",
        "                    print(\"  Invalid input. Please enter a valid amount.\\n\")\n",
        "            elif choice == \"4\":\n",
        "                if not self.exit():\n",
        "                    break\n",
        "            else:\n",
        "                print(\"  Invalid choice. Please select a valid option.\\n\")\n",
        "\n",
        "if __name__ == \"__main__\":\n",
        "    atm = ATM()\n",
        "    atm.menu()\n"
      ],
      "metadata": {
        "id": "r7cPDQGN1yLh",
        "colab": {
          "base_uri": "https://localhost:8080/"
        },
        "outputId": "fbc3f1d0-9189-4794-b3e0-722b5034e4dd"
      },
      "execution_count": null,
      "outputs": [
        {
          "output_type": "stream",
          "name": "stdout",
          "text": [
            "===== Welcome to the ATM =====\n",
            "  Please enter your 4-digit PIN: 0987\n",
            "  PIN verified successfully.\n",
            "\n",
            "===== ATM Menu =====\n",
            "1. Check Balance\n",
            "2. Deposit Money\n",
            "3. Withdraw Money\n",
            "4. Exit\n",
            "  Enter your choice (1/2/3/4): 3\n",
            "  Enter amount to withdraw: 33\n",
            "  Rs. 33.00 withdrawn successfully.\n",
            "\n",
            "  New balance: Rs. 29967.00\n",
            "\n",
            "===== ATM Menu =====\n",
            "1. Check Balance\n",
            "2. Deposit Money\n",
            "3. Withdraw Money\n",
            "4. Exit\n",
            "  Enter your choice (1/2/3/4): 4\n",
            "  Thank you for using the ATM. Goodbye!\n"
          ]
        }
      ]
    }
  ],
  "metadata": {
    "colab": {
      "provenance": [],
      "authorship_tag": "ABX9TyPtnLP6HWIbu5l5ROY2EbWh",
      "include_colab_link": true
    },
    "kernelspec": {
      "display_name": "Python 3",
      "name": "python3"
    },
    "language_info": {
      "name": "python"
    }
  },
  "nbformat": 4,
  "nbformat_minor": 0
}